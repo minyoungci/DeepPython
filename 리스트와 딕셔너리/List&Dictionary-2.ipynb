{
 "cells": [
  {
   "cell_type": "markdown",
   "metadata": {},
   "source": [
    "# 리스트를 정렬할 때는 key()를 사용해보자 \n",
    "\n",
    "list 내장 타입에는 리스트의 원소를 여러 기준에 따라 정렬할 수 있는 sort 메서드가 들어 있습니다. \n",
    "\n",
    "기본적으로 sort는 리스트의 내용을 원소 타입에 따른 자연스러운 순서를 사용해 오름차순으로 정렬합니다.\n",
    "\n",
    " 예를 들어 다음 코드는 정수 리스트를 작은 수부터 큰 수까지 순서대로 정렬합니다."
   ]
  },
  {
   "cell_type": "code",
   "execution_count": 1,
   "metadata": {},
   "outputs": [
    {
     "name": "stdout",
     "output_type": "stream",
     "text": [
      "[11, 68, 70, 86, 93]\n"
     ]
    }
   ],
   "source": [
    "numbers = [93, 86, 11, 68, 70]\n",
    "numbers.sort()\n",
    "print(numbers)"
   ]
  },
  {
   "cell_type": "markdown",
   "metadata": {},
   "source": [
    "sort 메서드는 자연스럽게 순서를 정할 수 있는 거의 대부분의 내장 타입에 대해 잘 작동합니다. \n",
    "\n",
    "sort가 객체를 어떻게 처리할까요? \n",
    "\n",
    "예를 들어 다음 예제는 클래스를 통해서 인스턴스를 출력할 수 있는 __repr__ 메서드와 함께 정의합니다"
   ]
  },
  {
   "cell_type": "code",
   "execution_count": 4,
   "metadata": {},
   "outputs": [],
   "source": [
    "class Tool:\n",
    "    def __init__(self, name, weight):\n",
    "        self.name = name\n",
    "        self.weight = weight\n",
    "\n",
    "    def __repr__(self):\n",
    "        return f'Tool({self.name!r}, {self.weight})'\n",
    "\n",
    "tools = [\n",
    "    Tool('수준계', 3.5),\n",
    "    Tool('해머', 1.25),\n",
    "    Tool('스크류드라이버', 0.5),\n",
    "    Tool('끌', 0.25),\n",
    "]"
   ]
  },
  {
   "cell_type": "markdown",
   "metadata": {},
   "source": [
    "sort 메서드가 호출하는 객체 비교 특별 메서드가 정의돼 있지 않으므로 이런 타입의 객체를 정렬할 수는 없습니다. \n",
    "\n",
    "클래스에 정수와 마찬가지로 자연스러운 순서가 있어야 하는 경우에는 필요한 특별 메서드를 정의하면 별도의 인자를 넘기지 않고 sort를 쓸 수 있습니다. \n",
    "\n",
    "하지만 우리가 만든 객체가 여러 가지 순서를 지원해야 하는 경우가 더 자주 있습니다. \n",
    "\n",
    "이런 경우 자연스러운 순서를 정의하는 것은 아무 의미가 없습니다. \n",
    "\n",
    "정렬에 사용하고 싶은 애트리뷰트가 객체에 들어 있는 경우가 ㅁ낳습니다. 이런 상황을 지원하기 위해 sort에는 key라는 파라미터가 있습니다. \n",
    "\n",
    "key는 함수여야 합니다. key 함수에는 정렬 중인 리스트의 원소가 전달됩니다.\n",
    "\n",
    "\n",
    "key 함수가 반환하는 값은 원소 대신 정렬 기준으로 사용할, 비교 가능한 값이어야 합니다. \n",
    "\n",
    "\n"
   ]
  },
  {
   "cell_type": "code",
   "execution_count": 5,
   "metadata": {},
   "outputs": [
    {
     "name": "stdout",
     "output_type": "stream",
     "text": [
      "미정렬: [Tool('수준계', 3.5), Tool('해머', 1.25), Tool('스크류드라이버', 0.5), Tool('끌', 0.25)]\n",
      "\n",
      "정렬:  [Tool('끌', 0.25), Tool('수준계', 3.5), Tool('스크류드라이버', 0.5), Tool('해머', 1.25)]\n"
     ]
    }
   ],
   "source": [
    "print('미정렬:', repr(tools))\n",
    "tools.sort(key=lambda x: x.name)\n",
    "print('\\n정렬: ', tools)"
   ]
  },
  {
   "cell_type": "markdown",
   "metadata": {},
   "source": [
    "쉽게 weight로 정렬하는 람다 함수를 만들어서 sort의 key 파라미터로 전달할 수 있습니다."
   ]
  },
  {
   "cell_type": "code",
   "execution_count": 6,
   "metadata": {},
   "outputs": [
    {
     "name": "stdout",
     "output_type": "stream",
     "text": [
      "무게순 정렬: [Tool('끌', 0.25), Tool('스크류드라이버', 0.5), Tool('해머', 1.25), Tool('수준계', 3.5)]\n"
     ]
    }
   ],
   "source": [
    "tools.sort(key=lambda x: x.weight)\n",
    "print('무게순 정렬:', tools)"
   ]
  },
  {
   "cell_type": "markdown",
   "metadata": {},
   "source": [
    "이 예제처럼 key로 전달된 람다 함수 내부에서는 원소 애트리뷰트에 접근하거나, 인덱스를 써서 값을 얻거나(원소가 시퀀스, 튜플, 딕셔너리인 경우),\n",
    "제대로 작동하는 다른 모든 식을 사용할 수 있습니다.\n",
    "\n",
    "문자열 같은 기본 타입의 경우에는 정렬하기 전 key()를 이용해서 원소 값을 변형할 수도 있습니다."
   ]
  },
  {
   "cell_type": "code",
   "execution_count": 7,
   "metadata": {},
   "outputs": [
    {
     "name": "stdout",
     "output_type": "stream",
     "text": [
      "대소문자 구분: ['New York', 'Paris', 'home', 'work']\n",
      "대소문자 무시: ['home', 'New York', 'Paris', 'work']\n"
     ]
    }
   ],
   "source": [
    "places = ['home', 'work', 'New York', 'Paris']\n",
    "places.sort()\n",
    "print('대소문자 구분:', places)\n",
    "places.sort(key=lambda x: x.lower())\n",
    "print('대소문자 무시:', places)"
   ]
  },
  {
   "cell_type": "markdown",
   "metadata": {},
   "source": [
    "때로는 여러 기준을 사용해 정렬해야 할 수도 있습니다. \n",
    "\n",
    "예를 들어, 전동 공구 정보가 들어 있는 리스트가 있는 weight로 먼저 정렬한 다음에 name으로 정렬하고 싶다면 어떻게 하는게 좋을까요?\n",
    "\n",
    "비교하는 두 튜플의 첫 번째 위치에 있는 값이 서로 같다면 튜플의 비교 메서드는 두 번째 위치에 있는 값을 서로 비교하고, 두 번째 위치에 있는 값도 같으면 마찬가지 방식으로 세 번째 이후 위치 등에 대해 비교를 반복할 수 있습니다."
   ]
  },
  {
   "cell_type": "code",
   "execution_count": 9,
   "metadata": {},
   "outputs": [
    {
     "name": "stdout",
     "output_type": "stream",
     "text": [
      "[Tool('드릴', 4), Tool('연마기', 4), Tool('원형 톱', 5), Tool('착암기', 40)]\n"
     ]
    }
   ],
   "source": [
    "power_tools = [\n",
    "    Tool('드릴', 4),\n",
    "    Tool('원형 톱', 5),\n",
    "    Tool('착암기', 40),\n",
    "    Tool('연마기', 4),\n",
    "]\n",
    "\n",
    "saw = (5, '원형 톱')\n",
    "jackhammer = (40, '착암기')\n",
    "assert not (jackhammer < saw) # 예상한 대로 결과가 나온다\n",
    "\n",
    "drill = (4, '드릴')\n",
    "sander = (4, '연마기')\n",
    "assert drill[0] == sander[0] # 무게가 같다\n",
    "assert drill[1] < sander[1]  # 알파벳순으로 볼 때 더 작다\n",
    "assert drill < sander        # 그러므로 드릴이 더 먼저다\n",
    "\n",
    "power_tools.sort(key=lambda x: (x.weight, x.name))\n",
    "print(power_tools)\n"
   ]
  },
  {
   "cell_type": "code",
   "execution_count": null,
   "metadata": {},
   "outputs": [],
   "source": []
  }
 ],
 "metadata": {
  "kernelspec": {
   "display_name": "TorchEnv",
   "language": "python",
   "name": "python3"
  },
  "language_info": {
   "codemirror_mode": {
    "name": "ipython",
    "version": 3
   },
   "file_extension": ".py",
   "mimetype": "text/x-python",
   "name": "python",
   "nbconvert_exporter": "python",
   "pygments_lexer": "ipython3",
   "version": "3.8.16"
  }
 },
 "nbformat": 4,
 "nbformat_minor": 2
}
